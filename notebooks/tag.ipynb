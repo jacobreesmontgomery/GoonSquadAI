{
 "cells": [
  {
   "cell_type": "markdown",
   "metadata": {},
   "source": [
    "# SETUP FOR TAG"
   ]
  },
  {
   "cell_type": "markdown",
   "metadata": {},
   "source": [
    "This notebook will be used for TAG operations with the PostgreSQL database's `strava_api` schema. The general flow is as follows:\n",
    "\n",
    "1. The user asks a question.\n",
    "2. The intent of the question is identified and the question is routed accordingly.\n",
    "3. In the case of a TAG intent being identified (e.g., a user asking about how many runs they've done in the last month), the LLM will be invoked to generate a SQL query.\n",
    "4. The SQL query is executed and, assuming no errors, the results are fed back into an additional LLM call to generate a response to be sent back to the user.\n",
    "5. The resulting answer is returned to the user."
   ]
  },
  {
   "cell_type": "markdown",
   "metadata": {},
   "source": [
    "## DATABASE CONNECTION"
   ]
  },
  {
   "cell_type": "code",
   "execution_count": null,
   "metadata": {},
   "outputs": [],
   "source": []
  },
  {
   "cell_type": "markdown",
   "metadata": {},
   "source": [
    "## LLM SETUP"
   ]
  },
  {
   "cell_type": "code",
   "execution_count": null,
   "metadata": {},
   "outputs": [],
   "source": []
  },
  {
   "cell_type": "markdown",
   "metadata": {},
   "source": [
    "# TAG (Table Augmented Generation)"
   ]
  },
  {
   "cell_type": "code",
   "execution_count": null,
   "metadata": {},
   "outputs": [],
   "source": []
  },
  {
   "cell_type": "markdown",
   "metadata": {},
   "source": []
  }
 ],
 "metadata": {
  "language_info": {
   "name": "python"
  }
 },
 "nbformat": 4,
 "nbformat_minor": 2
}
