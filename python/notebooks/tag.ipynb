{
 "cells": [
  {
   "cell_type": "markdown",
   "metadata": {},
   "source": [
    "# SETUP FOR TAG"
   ]
  },
  {
   "cell_type": "markdown",
   "metadata": {},
   "source": [
    "This notebook will be used for TAG operations with the PostgreSQL database's `strava_api` schema. The general flow is as follows:\n",
    "\n",
    "1. The user asks a question.\n",
    "2. The intent of the question is identified and the question is routed accordingly.\n",
    "3. In the case of a TAG intent being identified (e.g., a user asking about how many runs they've done in the last month), the LLM will be invoked to generate a SQL query.\n",
    "4. The SQL query is executed and, assuming no errors, the results are fed back into an additional LLM call to generate a response to be sent back to the user.\n",
    "5. The resulting answer is returned to the user."
   ]
  },
  {
   "cell_type": "markdown",
   "metadata": {},
   "source": [
    "## DATABASE CONNECTION"
   ]
  },
  {
   "cell_type": "code",
   "execution_count": 72,
   "metadata": {},
   "outputs": [],
   "source": [
    "# Establish the service\n",
    "from os import path as ospath\n",
    "from sys import path as syspath\n",
    "syspath.append(ospath.abspath(\"..\")) # Establishing root to root python directory\n",
    "\n",
    "from services.database import DatabaseService\n",
    "db_service = DatabaseService()"
   ]
  },
  {
   "cell_type": "code",
   "execution_count": 73,
   "metadata": {},
   "outputs": [
    {
     "name": "stdout",
     "output_type": "stream",
     "text": [
      "Fetched athlete with ID 41580846 and name Patrick Lister: <Athlete(athlete_id=41580846, athlete_name=Patrick Lister, email=PListerJr@gmail.com)>\n"
     ]
    }
   ],
   "source": [
    "# Test query\n",
    "from models.athlete import Athlete\n",
    "session = db_service.get_session()\n",
    "athlete_name = \"Patrick Lister\"\n",
    "try:\n",
    "    result = session.query(Athlete).filter_by(athlete_name=athlete_name).first()\n",
    "    print(f\"Fetched athlete with ID {result.athlete_id} and name {result.athlete_name}: {result}\")\n",
    "    session.close()\n",
    "except Exception as e:\n",
    "    print(f\"Error fetching data: {e}\")"
   ]
  },
  {
   "cell_type": "markdown",
   "metadata": {},
   "source": [
    "## LLM SETUP"
   ]
  },
  {
   "cell_type": "code",
   "execution_count": 74,
   "metadata": {},
   "outputs": [
    {
     "name": "stdout",
     "output_type": "stream",
     "text": [
      "Assistant's response: ChatCompletionMessage(content='Hello! How can I assist you today?', refusal=None, role='assistant', audio=None, function_call=None, tool_calls=None)\n"
     ]
    }
   ],
   "source": [
    "# Set up client\n",
    "from os import getenv\n",
    "from openai import OpenAI\n",
    "from dotenv import load_dotenv\n",
    "load_dotenv()\n",
    "\n",
    "client = OpenAI(api_key=getenv(\"OPENAI_API_KEY\"))\n",
    "\n",
    "# Test completion\n",
    "use_streaming = False\n",
    "response = client.chat.completions.create(\n",
    "    model=\"gpt-4o-mini\",\n",
    "    messages=[\n",
    "        {\"role\": \"developer\", \"content\": \"You are a helpful assistant.\"},\n",
    "        {\"role\": \"user\", \"content\": \"Hi!\"}\n",
    "    ],\n",
    "    stream=use_streaming\n",
    ")\n",
    "\n",
    "if use_streaming:\n",
    "    print(\"Assistant's streamed response: \")\n",
    "    for chunk in response:\n",
    "        print(chunk.choices[0].delta)\n",
    "else:\n",
    "    print(f\"Assistant's response: {response.choices[0].message}\")"
   ]
  },
  {
   "cell_type": "markdown",
   "metadata": {},
   "source": [
    "# TAG (Table Augmented Generation)"
   ]
  },
  {
   "cell_type": "code",
   "execution_count": 75,
   "metadata": {},
   "outputs": [],
   "source": [
    "# Establish TAG prompt and acquire user input\n",
    "tag_prompt = \"\"\"\n",
    "### Instructions:\n",
    "You are an expert SQL assistant. Your task is to generate an optimized SQL query based on the provided database schema and the user's request. \n",
    "The query should be well-structured, efficient, and free of errors. If any assumptions are necessary, clarify them before proceeding.\n",
    "\n",
    "### Database Schema(s):\n",
    "{schema_description}\n",
    "\n",
    "### User Request:\n",
    "\"{user_question}\"\n",
    "\n",
    "### Query Constraints:\n",
    "- Use appropriate SQL joins if multiple tables are involved.\n",
    "- Apply filtering conditions (`WHERE`, `HAVING`) based on the user's request.\n",
    "- Use `LIMIT` when the user requests a subset of results.\n",
    "- Ensure the query is optimized and avoids unnecessary computations.\n",
    "- If aggregation is required, use `GROUP BY` appropriately.\n",
    "- Use aliases for readability where necessary.\n",
    "- Format the query with proper indentation for clarity.\n",
    "\n",
    "### Output:\n",
    "Provide only the final SQL query without explanations or additional text.\n",
    "\"\"\"\n",
    "user_input = input(\"Enter your question: \")"
   ]
  },
  {
   "cell_type": "code",
   "execution_count": 76,
   "metadata": {},
   "outputs": [],
   "source": [
    "def clean_query(query: str):\n",
    "    \"\"\"\n",
    "    Cleans the LLM-generated SQL query by removing Markdown-style formatting.\n",
    "    \"\"\"\n",
    "    return (\n",
    "        query.strip()  # Remove leading/trailing whitespace\n",
    "        .replace(\"```sql\", \"\")  # Remove opening Markdown SQL block\n",
    "        .replace(\"```\", \"\")  # Remove closing Markdown block\n",
    "        .strip()  # Trim any remaining spaces\n",
    "    )"
   ]
  },
  {
   "cell_type": "code",
   "execution_count": 77,
   "metadata": {},
   "outputs": [],
   "source": [
    "# Establish the schema (manually for now)\n",
    "from models.activity import Activity\n",
    "from models.athlete import Athlete\n",
    "activity_desc = Activity().convert_to_schema_description()\n",
    "athlete_desc = Athlete().convert_to_schema_description()\n",
    "schema_desc = f\"{activity_desc}\\n{athlete_desc}\""
   ]
  },
  {
   "cell_type": "code",
   "execution_count": 78,
   "metadata": {},
   "outputs": [],
   "source": [
    "from sqlalchemy import text, Sequence, Row, Any\n",
    "from tenacity import retry, stop_after_attempt, wait_random_exponential\n",
    "error_msg = None\n",
    "query_to_execute = None\n",
    "debug_mode = True\n",
    "\n",
    "@retry(\n",
    "    stop=stop_after_attempt(5),\n",
    "    wait=wait_random_exponential(min=1, max=10),\n",
    ")\n",
    "def execute_query(schema_desc: str) -> tuple[Sequence[Row[Any]], int, int]:\n",
    "    \"\"\"\n",
    "    Executes the generated SQL query and returns the results.\n",
    "    \"\"\"\n",
    "    global error_msg, query_to_execute\n",
    "\n",
    "    # Generate a query based on the user's question\n",
    "    messages: list[dict[str, str]] = []\n",
    "    if error_msg:\n",
    "        messages.append({\"role\": \"developer\", \"content\": error_msg})\n",
    "    messages.append(\n",
    "        {\"role\": \"user\", \"content\": f\"{tag_prompt.format(schema_description=schema_desc, user_question=user_input)}\"}\n",
    "    )\n",
    "    if debug_mode:\n",
    "        print(f\"Messages being fed in to the LLM:\\n{messages}\")\n",
    "    query_result = client.chat.completions.create(\n",
    "        model=\"gpt-4o-mini\",\n",
    "        messages=messages + [  # Properly concatenate list instead of using `append`\n",
    "            {\"role\": \"user\", \"content\": f\"{tag_prompt.format(schema_description=schema_desc, user_question=user_input)}\"}\n",
    "        ],\n",
    "        store=True\n",
    "    )\n",
    "\n",
    "    # Completion ID\n",
    "    completion_id = query_result.id\n",
    "    if debug_mode:\n",
    "        print(f\"Chat completed: {completion_id}\")\n",
    "\n",
    "    # Clean up the query so it's executable\n",
    "    query = query_result.choices[0].message.content\n",
    "    query_to_execute = clean_query(query)\n",
    "\n",
    "    # Execute the query\n",
    "    session = db_service.get_session()\n",
    "    try: \n",
    "        print(f\"\\nExecuting this generated query: {query_to_execute}\")\n",
    "        result = session.execute(text(query_to_execute)).fetchall()\n",
    "    except Exception as e:\n",
    "        error_msg = f\"An error occurred while executing this query: {query_to_execute}.\\nHere is the error: {e}\\nPlease generate a query to resolve this issue.\\n\"\n",
    "        print(error_msg)\n",
    "        db_service.close_session() # Close session before retry\n",
    "        raise e # Hit the retry mechanism\n",
    "    db_service.close_session()\n",
    "    return result, len(result), completion_id"
   ]
  },
  {
   "cell_type": "code",
   "execution_count": null,
   "metadata": {},
   "outputs": [
    {
     "name": "stdout",
     "output_type": "stream",
     "text": [
      "Messages being fed in to the LLM:\n",
      "[{'role': 'developer', 'content': 'An error occurred while executing this query: SELECT COUNT(a.activity_id) AS run_count\\nFROM strava_api.activities a\\nJOIN strava_api.athletes ath ON a.athlete_id = ath.athlete_id\\nWHERE ath.athlete_name = \\'Patrick Lister\\'\\n  AND a.year = 2024\\n  AND a.wkt_type = \\'run\\';  -- Assuming \\'run\\' is the designation for running activities.\\nHere is the error: (psycopg2.errors.InvalidTextRepresentation) invalid input syntax for type integer: \"run\"\\nLINE 6:   AND a.wkt_type = \\'run\\';  -- Assuming \\'run\\' is the designat...\\n                           ^\\n\\n[SQL: SELECT COUNT(a.activity_id) AS run_count\\nFROM strava_api.activities a\\nJOIN strava_api.athletes ath ON a.athlete_id = ath.athlete_id\\nWHERE ath.athlete_name = \\'Patrick Lister\\'\\n  AND a.year = 2024\\n  AND a.wkt_type = \\'run\\';  -- Assuming \\'run\\' is the designation for running activities]\\n(Background on this error at: https://sqlalche.me/e/20/9h9h)\\nPlease generate a query to resolve this issue.\\n'}, {'role': 'user', 'content': '\\n### Instructions:\\nYou are an expert SQL assistant. Your task is to generate an optimized SQL query based on the provided database schema and the user\\'s request. \\nThe query should be well-structured, efficient, and free of errors. If any assumptions are necessary, clarify them before proceeding.\\n\\n### Database Schema(s):\\nTable: strava_api.activities\\n        Description: This table stores Strava run activities, including metadata about the activity, \\n        performance metrics, and engagement details.\\n\\n        Columns:\\n        - activity_id (BIGINT, PK): Unique identifier for the activity.\\n        - athlete_id (BIGINT, FK -> strava_api.athletes.athlete_id, NOT NULL): Athlete associated with the activity.\\n        - name (STRING, NOT NULL): Name of the activity.\\n        - moving_time (TIME, NOT NULL): Time spent moving (HH:MM:SS).\\n        - moving_time_s (INTEGER, NOT NULL): Moving time in seconds.\\n        - distance_mi (FLOAT, NOT NULL): Distance covered in miles.\\n        - pace_min_mi (TIME, NULL): Average pace in minutes per mile.\\n        - avg_speed_ft_s (FLOAT(2), NOT NULL): Average speed in feet per second.\\n        - full_datetime (DATETIME, NULL): Full timestamp of the activity.\\n        - time (TIME, NOT NULL): Time of day when the activity took place.\\n        - week_day (STRING, NOT NULL): Day of the week (e.g., MON-SUN).\\n        - month (INTEGER, NOT NULL): Month of the year (1-12).\\n        - day (INTEGER, NOT NULL): Day of the month (1-31).\\n        - year (INTEGER, NOT NULL): Year of the activity (e.g., 2024).\\n        - spm_avg (FLOAT, NULL): Average steps per minute.\\n        - hr_avg (FLOAT, NULL): Average heart rate during the activity.\\n        - wkt_type (INTEGER, NULL): Workout type classification.\\n        - description (TEXT, NULL): Additional notes or description of the activity.\\n        - total_elev_gain_ft (FLOAT, NULL): Total elevation gain in feet.\\n        - manual (BOOLEAN, NOT NULL): Whether the activity was manually logged.\\n        - max_speed_ft_s (FLOAT, NULL): Maximum speed in feet per second.\\n        - calories (FLOAT, NULL): Calories burned during the activity.\\n        - achievement_count (INTEGER, NULL): Number of achievements earned.\\n        - kudos_count (INTEGER, NULL): Number of kudos received.\\n        - comment_count (INTEGER, NULL): Number of comments received.\\n        - athlete_count (INTEGER, NULL): Number of athletes involved in the activity.\\n        - rpe (INTEGER, NULL): Rate of perceived exertion (1-10).\\n        - rating (INTEGER, NULL): User rating of the activity (1-10).\\n        - avg_power (INTEGER, NULL): Average power output in watts.\\n        - sleep_rating (INTEGER, NULL): Sleep rating on the day of activity (1-10).\\n        \\n        Notes: \\n        - Primary Key: activity_id\\n        - Foreign Key: athlete_id references strava_api.athletes.athlete_id\\nTable: strava_api.athletes\\n        Description: This table stores information about Strava athletes, including their identifiers, \\n        authentication tokens, and contact details.\\n\\n        Columns:\\n        - athlete_id (BIGINT, PK): Unique identifier for the athlete.\\n        - athlete_name (STRING, NOT NULL): Name of the athlete.\\n        - refresh_token (STRING, NOT NULL): OAuth refresh token for authentication.\\n        - email (STRING, UNIQUE, NOT NULL): Athlete\\'s email address (must be unique).\\n\\n        Notes:\\n        - Primary Key: athlete_id\\n\\n### User Request:\\n\"How many runs did Patrick Lister have in 2024\"\\n\\n### Query Constraints:\\n- Use appropriate SQL joins if multiple tables are involved.\\n- Apply filtering conditions (`WHERE`, `HAVING`) based on the user\\'s request.\\n- Use `LIMIT` when the user requests a subset of results.\\n- Ensure the query is optimized and avoids unnecessary computations.\\n- If aggregation is required, use `GROUP BY` appropriately.\\n- Use aliases for readability where necessary.\\n- Format the query with proper indentation for clarity.\\n\\n### Output:\\nProvide only the final SQL query without explanations or additional text.\\n'}]\n",
      "Chat completed: chatcmpl-B3vKTpLSoSYeB2Wy4z75vJULgSr7v\n",
      "\n",
      "Executing this generated query: SELECT COUNT(a.activity_id) AS run_count\n",
      "FROM strava_api.activities a\n",
      "JOIN strava_api.athletes ath ON a.athlete_id = ath.athlete_id\n",
      "WHERE ath.athlete_name = 'Patrick Lister'\n",
      "  AND a.year = 2024\n",
      "  AND a.wkt_type = 1;  -- Assuming '1' represents running activities in the wkt_type classification.\n",
      "\n",
      "Received 1 row: \n",
      "(10,)\n",
      "The last retry attempt falied: 'ChatCompletionStoreMessage' object is not subscriptable\n"
     ]
    }
   ],
   "source": [
    "display_results = True\n",
    "\n",
    "try:\n",
    "    result, num_rows, completion_id = execute_query(schema_desc=schema_desc)\n",
    "\n",
    "    # Display the results\n",
    "    if display_results:\n",
    "        print(f\"\\nReceived {num_rows} {\"rows\" if num_rows != 1 else \"row\"}: \")\n",
    "        for row in result:\n",
    "            print(row)\n",
    "    \n",
    "    # Return an answer to the user\n",
    "    # TODO - Fix this. Need to feed in full context of conversation. Might be easier to just save it globally\n",
    "    # or within a class. For now, trying to use the OpenAI API...\n",
    "    past_messages = client.chat.completions.messages.list(completion_id=completion_id)\n",
    "    messages: list[dict[str, str]] = []\n",
    "    for message in past_messages.data:\n",
    "        messages.append(\n",
    "            {\"role\": message[\"role\"], \"message\": message[\"content\"]}\n",
    "        )\n",
    "    messages.append(\n",
    "        {\n",
    "            \"role\": \"developer\", \n",
    "            \"content\": f\"\"\"\n",
    "                Based on this answer retrieved from a database schema containing running data: {result}\n",
    "                Return a consise but accurate answer to the user for their question: {user_input}\n",
    "                \n",
    "                Importantly, I am NOT asking you to retrieve from your training data.\n",
    "            \"\"\"\n",
    "        }\n",
    "    )\n",
    "    ai_response = client.chat.completions.create(\n",
    "        model=\"gpt-4o-mini\",\n",
    "        messages=messages\n",
    "    ).choices[0].message.content\n",
    "    print(f\"\\nAI response: {ai_response}\")\n",
    "\n",
    "except Exception as e:\n",
    "    print(f\"The last retry attempt falied: {e}\")"
   ]
  },
  {
   "cell_type": "markdown",
   "metadata": {},
   "source": []
  }
 ],
 "metadata": {
  "kernelspec": {
   "display_name": "venv",
   "language": "python",
   "name": "python3"
  },
  "language_info": {
   "codemirror_mode": {
    "name": "ipython",
    "version": 3
   },
   "file_extension": ".py",
   "mimetype": "text/x-python",
   "name": "python",
   "nbconvert_exporter": "python",
   "pygments_lexer": "ipython3",
   "version": "3.12.1"
  }
 },
 "nbformat": 4,
 "nbformat_minor": 2
}
