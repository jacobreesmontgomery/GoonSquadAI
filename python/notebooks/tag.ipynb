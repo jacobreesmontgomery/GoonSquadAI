{
 "cells": [
  {
   "cell_type": "markdown",
   "metadata": {},
   "source": [
    "# SETUP FOR TAG"
   ]
  },
  {
   "cell_type": "markdown",
   "metadata": {},
   "source": [
    "This notebook will be used for TAG operations with the PostgreSQL database's `strava_api` schema. The general flow is as follows:\n",
    "\n",
    "1. The user asks a question.\n",
    "2. The intent of the question is identified and the question is routed accordingly.\n",
    "3. In the case of a TAG intent being identified (e.g., a user asking about how many runs they've done in the last month), the LLM will be invoked to generate a SQL query.\n",
    "4. The SQL query is executed and, assuming no errors, the results are fed back into an additional LLM call to generate a response to be sent back to the user.\n",
    "5. The resulting answer is returned to the user."
   ]
  },
  {
   "cell_type": "markdown",
   "metadata": {},
   "source": [
    "## FUN IDEAS TO LOOK INTO"
   ]
  },
  {
   "cell_type": "markdown",
   "metadata": {},
   "source": [
    "1. Graphic visualization generation\n",
    "2. Analyzing trends in athlete data\n",
    "3. Analyzing athlete performance based on specific metrics (e.g., average mileage, average time per run)\n",
    "4. Predicting future athlete performance based on historical data\n"
   ]
  },
  {
   "cell_type": "markdown",
   "metadata": {},
   "source": [
    "## DATABASE CONNECTION"
   ]
  },
  {
   "cell_type": "code",
   "execution_count": 1,
   "metadata": {},
   "outputs": [],
   "source": [
    "# Establish the service\n",
    "from os import path as ospath\n",
    "from sys import path as syspath\n",
    "syspath.append(ospath.abspath(\"..\")) # Establishing root to root python directory\n",
    "\n",
    "from services.database import DatabaseService\n",
    "db_service = DatabaseService()"
   ]
  },
  {
   "cell_type": "code",
   "execution_count": 2,
   "metadata": {},
   "outputs": [
    {
     "name": "stdout",
     "output_type": "stream",
     "text": [
      "Fetched athlete with ID 41580846 and name Patrick Lister: <Athlete(athlete_id=41580846, athlete_name=Patrick Lister, email=PListerJr@gmail.com)>\n"
     ]
    }
   ],
   "source": [
    "# Test query\n",
    "from models.athlete import Athlete\n",
    "session = db_service.get_session()\n",
    "athlete_name = \"Patrick Lister\"\n",
    "try:\n",
    "    result = session.query(Athlete).filter_by(athlete_name=athlete_name).first()\n",
    "    print(f\"Fetched athlete with ID {result.athlete_id} and name {result.athlete_name}: {result}\")\n",
    "    session.close()\n",
    "except Exception as e:\n",
    "    print(f\"Error fetching data: {e}\")"
   ]
  },
  {
   "cell_type": "markdown",
   "metadata": {},
   "source": [
    "## LLM SETUP"
   ]
  },
  {
   "cell_type": "code",
   "execution_count": 3,
   "metadata": {},
   "outputs": [
    {
     "name": "stdout",
     "output_type": "stream",
     "text": [
      "Assistant's response: ChatCompletionMessage(content='Hello! How can I assist you today?', refusal=None, role='assistant', audio=None, function_call=None, tool_calls=None)\n"
     ]
    }
   ],
   "source": [
    "# Set up client\n",
    "from os import getenv\n",
    "from openai import OpenAI\n",
    "from dotenv import load_dotenv\n",
    "load_dotenv()\n",
    "\n",
    "client = OpenAI(api_key=getenv(\"OPENAI_API_KEY\"))\n",
    "\n",
    "# Test completion\n",
    "use_streaming = False\n",
    "response = client.chat.completions.create(\n",
    "    model=\"gpt-4o-mini\",\n",
    "    messages=[\n",
    "        {\"role\": \"developer\", \"content\": \"You are a helpful assistant.\"},\n",
    "        {\"role\": \"user\", \"content\": \"Hi!\"}\n",
    "    ],\n",
    "    stream=use_streaming\n",
    ")\n",
    "\n",
    "if use_streaming:\n",
    "    print(\"Assistant's streamed response: \")\n",
    "    for chunk in response:\n",
    "        print(chunk.choices[0].delta)\n",
    "else:\n",
    "    print(f\"Assistant's response: {response.choices[0].message}\")"
   ]
  },
  {
   "cell_type": "markdown",
   "metadata": {},
   "source": [
    "# TAG (Table Augmented Generation)"
   ]
  },
  {
   "cell_type": "code",
   "execution_count": 4,
   "metadata": {},
   "outputs": [],
   "source": [
    "# Establish TAG prompt and acquire user input\n",
    "tag_prompt = \"\"\"\n",
    "### Instructions:\n",
    "You are an expert SQL assistant. Your task is to generate an optimized PostgreSQL SQL query based on the provided database schema and the user's request. \n",
    "The query should be well-structured, efficient, and free of errors. If any assumptions are necessary, clarify them before proceeding.\n",
    "\n",
    "### Database Schema(s):\n",
    "{schema_description}\n",
    "\n",
    "### User Request:\n",
    "\"{user_question}\"\n",
    "\n",
    "### Query Constraints:\n",
    "- Use appropriate SQL joins if multiple tables are involved.\n",
    "- Apply filtering conditions (`WHERE`, `HAVING`) based on the user's request.\n",
    "- Use `LIMIT` when the user requests a subset of results.\n",
    "- Ensure the query is optimized and avoids unnecessary computations.\n",
    "- If aggregation is required, use `GROUP BY` appropriately.\n",
    "- Use aliases for readability where necessary.\n",
    "- Format the query with proper indentation for clarity.\n",
    "\n",
    "### Output:\n",
    "Provide only the final SQL query without explanations or additional text.\n",
    "\"\"\"\n",
    "user_input = input(\"Enter your question: \")"
   ]
  },
  {
   "cell_type": "code",
   "execution_count": 5,
   "metadata": {},
   "outputs": [],
   "source": [
    "def clean_query(query: str):\n",
    "    \"\"\"\n",
    "    Cleans the LLM-generated SQL query by removing Markdown-style formatting.\n",
    "    \"\"\"\n",
    "    return (\n",
    "        query.strip()  # Remove leading/trailing whitespace\n",
    "        .replace(\"```sql\", \"\")  # Remove opening Markdown SQL block\n",
    "        .replace(\"```\", \"\")  # Remove closing Markdown block\n",
    "        .strip()  # Trim any remaining spaces\n",
    "    )"
   ]
  },
  {
   "cell_type": "code",
   "execution_count": 6,
   "metadata": {},
   "outputs": [],
   "source": [
    "# Establish the schema (manually for now)\n",
    "from models.activity import Activity\n",
    "from models.athlete import Athlete\n",
    "activity_desc = Activity().convert_to_schema_description()\n",
    "athlete_desc = Athlete().convert_to_schema_description()\n",
    "schema_desc = f\"{activity_desc}\\n{athlete_desc}\""
   ]
  },
  {
   "cell_type": "code",
   "execution_count": 7,
   "metadata": {},
   "outputs": [],
   "source": [
    "from sqlalchemy import text, Sequence, Row, Any\n",
    "from tenacity import retry, stop_after_attempt, wait_random_exponential\n",
    "error_msg = None\n",
    "query_to_execute = None\n",
    "debug_mode = True\n",
    "\n",
    "@retry(\n",
    "    stop=stop_after_attempt(5),\n",
    "    wait=wait_random_exponential(min=1, max=10),\n",
    ")\n",
    "def execute_query(schema_desc: str) -> tuple[Sequence[Row[Any]], int, int]:\n",
    "    \"\"\"\n",
    "    Executes the generated SQL query and returns the results.\n",
    "    \"\"\"\n",
    "    global error_msg, query_to_execute\n",
    "\n",
    "    # Generate a query based on the user's question\n",
    "    messages: list[dict[str, str]] = []\n",
    "    if error_msg:\n",
    "        messages.append({\"role\": \"developer\", \"content\": error_msg})\n",
    "    messages.append(\n",
    "        {\"role\": \"user\", \"content\": f\"{tag_prompt.format(schema_description=schema_desc, user_question=user_input)}\"}\n",
    "    )\n",
    "    if debug_mode:\n",
    "        print(f\"Messages being fed in to the LLM:\\n{messages}\")\n",
    "    query_result = client.chat.completions.create(\n",
    "        model=\"gpt-4o-mini\",\n",
    "        messages=messages,\n",
    "        store=True\n",
    "    )\n",
    "\n",
    "    # Completion ID\n",
    "    completion_id = query_result.id\n",
    "    if debug_mode:\n",
    "        print(f\"Chat completed: {completion_id}\")\n",
    "\n",
    "    # Clean up the query so it's executable\n",
    "    query = query_result.choices[0].message.content\n",
    "    query_to_execute = clean_query(query)\n",
    "\n",
    "    # Execute the query\n",
    "    session = db_service.get_session()\n",
    "    try: \n",
    "        print(f\"\\nExecuting this generated query: {query_to_execute}\")\n",
    "        result = session.execute(text(query_to_execute)).fetchall()\n",
    "    except Exception as e:\n",
    "        error_msg = f\"An error occurred while executing this query: {query_to_execute}.\\nHere is the error: {e}\\nPlease generate a query to resolve this issue.\\n\"\n",
    "        print(error_msg)\n",
    "        db_service.close_session() # Close session before retry\n",
    "        raise e # Hit the retry mechanism\n",
    "    db_service.close_session()\n",
    "    return result, len(result), completion_id"
   ]
  },
  {
   "cell_type": "code",
   "execution_count": 8,
   "metadata": {},
   "outputs": [],
   "source": [
    "@retry(\n",
    "    stop=stop_after_attempt(5), \n",
    "    wait=wait_random_exponential(min=1, max=5), \n",
    ")\n",
    "def get_past_messages(completion_id):\n",
    "    \"\"\"Retries fetching past messages from a completion.\"\"\"\n",
    "    try:\n",
    "        past_messages = client.chat.completions.messages.list(completion_id=completion_id)\n",
    "        return past_messages\n",
    "    except Exception as e:\n",
    "        print(f\"Error fetching past messages for completion [{completion_id}]: {e}. Retrying...\")\n",
    "        raise e  # Trigger tenacity retry"
   ]
  },
  {
   "cell_type": "code",
   "execution_count": 9,
   "metadata": {},
   "outputs": [
    {
     "name": "stdout",
     "output_type": "stream",
     "text": [
      "Messages being fed in to the LLM:\n",
      "[{'role': 'user', 'content': '\\n### Instructions:\\nYou are an expert SQL assistant. Your task is to generate an optimized PostgreSQL SQL query based on the provided database schema and the user\\'s request. \\nThe query should be well-structured, efficient, and free of errors. If any assumptions are necessary, clarify them before proceeding.\\n\\n### Database Schema(s):\\nTable: strava_api.activities\\n        Description: This table stores Strava run activities, including metadata about the activity, \\n        performance metrics, and engagement details.\\n\\n        Columns:\\n        - activity_id (BIGINT, PK): Unique identifier for the activity.\\n        - athlete_id (BIGINT, FK -> strava_api.athletes.athlete_id, NOT NULL): Athlete associated with the activity.\\n        - name (STRING, NOT NULL): Name of the activity.\\n        - moving_time (TIME, NOT NULL): Time spent moving (HH:MM:SS).\\n        - moving_time_s (INTEGER, NOT NULL): Moving time in seconds.\\n        - distance_mi (FLOAT, NOT NULL): Distance covered in miles.\\n        - pace_min_mi (TIME, NULL): Average pace in minutes per mile.\\n        - avg_speed_ft_s (FLOAT(2), NOT NULL): Average speed in feet per second.\\n        - full_datetime (DATETIME, NULL): Full timestamp of the activity.\\n        - time (TIME, NOT NULL): Time of day when the activity took place.\\n        - week_day (STRING, NOT NULL): Day of the week (e.g., MON-SUN).\\n        - month (INTEGER, NOT NULL): Month of the year (1-12).\\n        - day (INTEGER, NOT NULL): Day of the month (1-31).\\n        - year (INTEGER, NOT NULL): Year of the activity (e.g., 2024).\\n        - spm_avg (FLOAT, NULL): Average steps per minute.\\n        - hr_avg (FLOAT, NULL): Average heart rate during the activity.\\n        - wkt_type (INTEGER, NULL): Workout type classification.\\n        - description (TEXT, NULL): Additional notes or description of the activity.\\n        - total_elev_gain_ft (FLOAT, NULL): Total elevation gain in feet.\\n        - manual (BOOLEAN, NOT NULL): Whether the activity was manually logged.\\n        - max_speed_ft_s (FLOAT, NULL): Maximum speed in feet per second.\\n        - calories (FLOAT, NULL): Calories burned during the activity.\\n        - achievement_count (INTEGER, NULL): Number of achievements earned.\\n        - kudos_count (INTEGER, NULL): Number of kudos received.\\n        - comment_count (INTEGER, NULL): Number of comments received.\\n        - athlete_count (INTEGER, NULL): Number of athletes involved in the activity.\\n        - rpe (INTEGER, NULL): Rate of perceived exertion (1-10).\\n        - rating (INTEGER, NULL): User rating of the activity (1-10).\\n        - avg_power (INTEGER, NULL): Average power output in watts.\\n        - sleep_rating (INTEGER, NULL): Sleep rating on the day of activity (1-10).\\n        \\n        Notes: \\n        - Primary Key: activity_id\\n        - Foreign Key: athlete_id references strava_api.athletes.athlete_id\\nTable: strava_api.athletes\\n        Description: This table stores information about Strava athletes, including their identifiers, \\n        authentication tokens, and contact details.\\n\\n        Columns:\\n        - athlete_id (BIGINT, PK): Unique identifier for the athlete.\\n        - athlete_name (STRING, NOT NULL): Name of the athlete.\\n        - refresh_token (STRING, NOT NULL): OAuth refresh token for authentication.\\n        - email (STRING, UNIQUE, NOT NULL): Athlete\\'s email address (must be unique).\\n\\n        Notes:\\n        - Primary Key: athlete_id\\n\\n### User Request:\\n\"What were the three longest runs of 2024 that Patrick Lister did and what were some stats on them?\"\\n\\n### Query Constraints:\\n- Use appropriate SQL joins if multiple tables are involved.\\n- Apply filtering conditions (`WHERE`, `HAVING`) based on the user\\'s request.\\n- Use `LIMIT` when the user requests a subset of results.\\n- Ensure the query is optimized and avoids unnecessary computations.\\n- If aggregation is required, use `GROUP BY` appropriately.\\n- Use aliases for readability where necessary.\\n- Format the query with proper indentation for clarity.\\n\\n### Output:\\nProvide only the final SQL query without explanations or additional text.\\n'}]\n",
      "Chat completed: chatcmpl-B3weJYKjlamyGk7HzO03IUEB8M6R8\n",
      "\n",
      "Executing this generated query: SELECT \n",
      "    a.activity_id,\n",
      "    a.name,\n",
      "    a.moving_time,\n",
      "    a.moving_time_s,\n",
      "    a.distance_mi,\n",
      "    a.pace_min_mi,\n",
      "    a.avg_speed_ft_s,\n",
      "    a.total_elev_gain_ft,\n",
      "    a.calories,\n",
      "    a.kudos_count,\n",
      "    a.comment_count,\n",
      "    a.year,\n",
      "    a.month,\n",
      "    a.day\n",
      "FROM \n",
      "    strava_api.activities a\n",
      "JOIN \n",
      "    strava_api.athletes ath ON a.athlete_id = ath.athlete_id\n",
      "WHERE \n",
      "    ath.athlete_name = 'Patrick Lister' \n",
      "    AND a.year = 2024\n",
      "ORDER BY \n",
      "    a.distance_mi DESC\n",
      "LIMIT 3;\n",
      "\n",
      "Query executed successfully. Number of rows returned: 3\n",
      "\n",
      "Query Result:\n",
      "(12974597218, '2024 Philadelphia Marathon: 3:06:32 official (5 min PR)', datetime.time(3, 6, 32), 11192, 26.44, datetime.time(0, 7, 3), 12.47, 644.03, 2946.0, 33, 19, 2024, 11, 24)\n",
      "(12814604109, 'Long Workout: WarmUp+13 Miles MP(40-45%RPE)+Steady', datetime.time(2, 28, 11), 8891, 21.12, datetime.time(0, 7, 1), 12.54, 467.19, 2204.0, 18, 6, 2024, 11, 3)\n",
      "(12758939203, 'Easy Long', datetime.time(2, 44, 36), 9876, 18.73, datetime.time(0, 8, 47), 10.02, 709.97, 1599.0, 16, 1, 2024, 10, 27)\n",
      "Error fetching past messages for completion [chatcmpl-B3weJYKjlamyGk7HzO03IUEB8M6R8]: Error code: 404 - {'error': {'message': 'Completion chatcmpl-B3weJYKjlamyGk7HzO03IUEB8M6R8 not found', 'type': 'invalid_request_error', 'param': 'completion_id', 'code': 'not_found'}}. Retrying...\n",
      "Error fetching past messages for completion [chatcmpl-B3weJYKjlamyGk7HzO03IUEB8M6R8]: Error code: 404 - {'error': {'message': 'Completion chatcmpl-B3weJYKjlamyGk7HzO03IUEB8M6R8 not found', 'type': 'invalid_request_error', 'param': 'completion_id', 'code': 'not_found'}}. Retrying...\n",
      "\n",
      "In 2024, Patrick Lister had three of his longest runs, detailed below along with relevant statistics:\n",
      "\n",
      "| Activity ID     | Name                                                | Moving Time | Distance (mi) | Average Pace   | Average Speed (ft/s) | Total Elev Gain (ft) | Year | Month | Day |\n",
      "|------------------|----------------------------------------------------|-------------|----------------|----------------|-----------------------|----------------------|------|-------|-----|\n",
      "| 12974597218      | 2024 Philadelphia Marathon: 3:06:32 official (5 min PR) | 3:06:32    | 26.44          | 7:03           | 12.47                 | 644.03               | 2024 | 11    | 24  |\n",
      "| 12814604109      | Long Workout: WarmUp+13 Miles MP(40-45%RPE)+Steady    | 2:28:11    | 21.12          | 7:01           | 12.54                 | 467.19               | 2024 | 11    | 3   |\n",
      "| 12758939203      | Easy Long                                          | 2:44:36    | 18.73          | 8:47           | 10.02                 | 709.97               | 2024 | 10    | 27  |\n",
      "\n",
      "These runs display a mix of distance, timing, and average pacing, showcasing Patrick's performance during the year.\n"
     ]
    }
   ],
   "source": [
    "display_results = True\n",
    "\n",
    "try:\n",
    "    result, num_rows, completion_id = execute_query(schema_desc=schema_desc)\n",
    "\n",
    "    # Display the results\n",
    "    formatted_result = \"\\n\".join([str(row) for row in result])\n",
    "    if display_results:\n",
    "        print(f\"\\nQuery executed successfully. Number of rows returned: {num_rows}\")\n",
    "        print(f\"\\nQuery Result:\\n{formatted_result}\")\n",
    "    \n",
    "    # Return an answer to the user\n",
    "    past_messages = get_past_messages(completion_id=completion_id)\n",
    "    messages: list[dict[str, str]] = [message.model_dump(include={\"role\", \"content\"}) for message in past_messages]\n",
    "    messages.append(\n",
    "        {\n",
    "            \"role\": \"developer\",\n",
    "            \"content\": f\"\"\"\n",
    "                The user previously asked a question, and a SQL query was executed to retrieve relevant data.\n",
    "                The query result is:\n",
    "\n",
    "                {formatted_result}\n",
    "\n",
    "                Your task is to **write a natural language answer** to the user.\n",
    "                Do **NOT** generate another SQL query. Simply provide a clear, well-written summary response.\n",
    "\n",
    "                Additionally, if it makes sense, use a Markdown-formatted table to hold the data.\n",
    "            \"\"\"\n",
    "        }\n",
    "    )\n",
    "    ai_response = client.chat.completions.create(\n",
    "        model=\"gpt-4o-mini\",\n",
    "        messages=messages\n",
    "    ).choices[0].message.content\n",
    "    print(f\"\\n{ai_response}\")\n",
    "\n",
    "except Exception as e:\n",
    "    print(f\"The last retry attempt falied: {e}\")"
   ]
  },
  {
   "cell_type": "markdown",
   "metadata": {},
   "source": []
  }
 ],
 "metadata": {
  "kernelspec": {
   "display_name": "venv",
   "language": "python",
   "name": "python3"
  },
  "language_info": {
   "codemirror_mode": {
    "name": "ipython",
    "version": 3
   },
   "file_extension": ".py",
   "mimetype": "text/x-python",
   "name": "python",
   "nbconvert_exporter": "python",
   "pygments_lexer": "ipython3",
   "version": "3.12.1"
  }
 },
 "nbformat": 4,
 "nbformat_minor": 2
}
